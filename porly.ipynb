{
 "cells": [
  {
   "cell_type": "code",
   "execution_count": 14,
   "id": "5e8852fb-aa54-45a4-a75d-cfb661fa9d07",
   "metadata": {},
   "outputs": [
    {
     "name": "stdout",
     "output_type": "stream",
     "text": [
      "The area of is 314.0cm squire\n",
      "The area of is 100cm squire\n",
      "The area of is 120cm squire\n",
      "The area of is 100.0cm squire\n"
     ]
    }
   ],
   "source": [
    "from abc import ABC,abstractmethod\n",
    "class Shape:\n",
    "    def area(self):\n",
    "        pass\n",
    "class Circle(Shape):\n",
    "    def __init__(self,radius):\n",
    "        self.radius=radius\n",
    "    def area(self):\n",
    "        return 3.14 * self.radius*self.radius\n",
    "class Squire(Shape):\n",
    "    def __init__(self,side):\n",
    "        self.side=side\n",
    "    def area(self):\n",
    "        return self.side**2\n",
    "class Triangle(Shape):\n",
    "    def __init__(self,base,height):\n",
    "        self.base=base\n",
    "        self.height=height\n",
    "    def area(self):\n",
    "        return self.base*self.height\n",
    "class Rectangle(Shape):\n",
    "    def __init__(self,lenght,width):\n",
    "        self.lenght=lenght\n",
    "        self.width=width\n",
    "    def area(self):\n",
    "        return self.lenght*self.width*0.5\n",
    "shapes =[Circle(10),Squire(10),Triangle(10,12),Rectangle(10,20)]\n",
    "for shape in shapes:\n",
    "    print(f\"The area of is {shape.area()}cm squire\")\n",
    "\n",
    "\n",
    "\n"
   ]
  },
  {
   "cell_type": "code",
   "execution_count": null,
   "id": "f6eb7e30-e896-42dd-af07-8962c63d3fc1",
   "metadata": {},
   "outputs": [],
   "source": []
  }
 ],
 "metadata": {
  "kernelspec": {
   "display_name": "Python 3 (ipykernel)",
   "language": "python",
   "name": "python3"
  },
  "language_info": {
   "codemirror_mode": {
    "name": "ipython",
    "version": 3
   },
   "file_extension": ".py",
   "mimetype": "text/x-python",
   "name": "python",
   "nbconvert_exporter": "python",
   "pygments_lexer": "ipython3",
   "version": "3.12.4"
  }
 },
 "nbformat": 4,
 "nbformat_minor": 5
}
