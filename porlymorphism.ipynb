{
 "cells": [
  {
   "cell_type": "code",
   "execution_count": 38,
   "id": "19ebc95d-965f-497a-9d51-f338c6b86b21",
   "metadata": {},
   "outputs": [
    {
     "name": "stdout",
     "output_type": "stream",
     "text": [
      "[None, None, None]\n"
     ]
    }
   ],
   "source": [
    "#porlymorphism is a grrek word that means to have many forms or faces\n",
    "#it can be achieved through inheritance and duck typing\n",
    "from  abc import ABC,abstractmethod\n",
    "from math import pi\n",
    "class shapes(ABC):\n",
    "  @abstractmethod\n",
    "  def area(self):\n",
    "    pass\n",
    "def circle(shapes):\n",
    "   def __init__(self,radius):\n",
    "       self.radius=radius\n",
    "   def area(self):\n",
    "        return 2*math.pi*radius\n",
    "def squire(shapes):\n",
    "  def __init__(self,length):\n",
    "      self.length=length\n",
    "  def area(self):\n",
    "      return self.length**2\n",
    "      \n",
    "def triangle(shapes):\n",
    "    def __init__(self,height): \n",
    "        self.height=height\n",
    "    def area(self):\n",
    "        return self.height**3\n",
    "shapess=[circle(10),squire(10),triangle(15)]\n",
    "\n",
    "print(shapess)\n",
    "\n",
    "\n"
   ]
  },
  {
   "cell_type": "code",
   "execution_count": null,
   "id": "bfe4077f-7d7b-49a3-9d01-5ee893cd7173",
   "metadata": {},
   "outputs": [],
   "source": []
  }
 ],
 "metadata": {
  "kernelspec": {
   "display_name": "Python 3 (ipykernel)",
   "language": "python",
   "name": "python3"
  },
  "language_info": {
   "codemirror_mode": {
    "name": "ipython",
    "version": 3
   },
   "file_extension": ".py",
   "mimetype": "text/x-python",
   "name": "python",
   "nbconvert_exporter": "python",
   "pygments_lexer": "ipython3",
   "version": "3.12.4"
  }
 },
 "nbformat": 4,
 "nbformat_minor": 5
}
